{
  "cells": [
    {
      "cell_type": "markdown",
      "metadata": {
        "id": "eNFFigp2Grw9"
      },
      "source": [
        "# Stable diffusion text to image"
      ]
    },
    {
      "cell_type": "markdown",
      "metadata": {
        "id": "krECiKIJOpZL"
      },
      "source": [
        "## Overview\n",
        "\n",
        "Hagging faceのStable Diffusionを利用したテキストから画像を生成するノートブック。\n",
        "公開されている重みをそのまま利用して実行しています。\n",
        "実行するためには、Hugging Faceのアカウントを取得し、APIキーが必要となります。"
      ]
    },
    {
      "cell_type": "markdown",
      "metadata": {
        "id": "50r5NPyXOtvg"
      },
      "source": [
        "## Install packages"
      ]
    },
    {
      "cell_type": "code",
      "execution_count": null,
      "metadata": {
        "id": "MuoPEVBNGfD4"
      },
      "outputs": [],
      "source": [
        "def _install_packages() -> None:\n",
        "    # Install packagees.\n",
        "    !pip install --quiet --no-cache \\\n",
        "        diffusers==0.3.0 \\\n",
        "        ftfy \\\n",
        "        scipy \\\n",
        "        transformers\n",
        "\n",
        "\n",
        "_install_packages()"
      ]
    },
    {
      "cell_type": "markdown",
      "metadata": {
        "id": "F-ZQEq0IOw4Q"
      },
      "source": [
        "## Import packages"
      ]
    },
    {
      "cell_type": "code",
      "execution_count": null,
      "metadata": {
        "id": "M44EyRLwHCKG"
      },
      "outputs": [],
      "source": [
        "from getpass import getpass\n",
        "from pathlib import Path\n",
        "\n",
        "from IPython.display import display\n",
        "from IPython.display import Image as displayImage\n",
        "from PIL.Image import Image\n",
        "\n",
        "from diffusers import StableDiffusionPipeline"
      ]
    },
    {
      "cell_type": "markdown",
      "metadata": {
        "id": "mE4P4CR2O2RK"
      },
      "source": [
        "## Setup"
      ]
    },
    {
      "cell_type": "code",
      "execution_count": null,
      "metadata": {
        "id": "ngZ_79AvJMwr"
      },
      "outputs": [],
      "source": [
        "HAGGINGFACE_TOKEN = getpass(\"Enter the Hagging Face API key.\")"
      ]
    },
    {
      "cell_type": "markdown",
      "metadata": {
        "id": "c0RN1JwdPkPY"
      },
      "source": [
        "### Pipeline"
      ]
    },
    {
      "cell_type": "code",
      "execution_count": null,
      "metadata": {
        "id": "V4ljmQ6RHP7F"
      },
      "outputs": [],
      "source": [
        "def _create_pipeline() -> StableDiffusionPipeline:\n",
        "    pipe = StableDiffusionPipeline.from_pretrained(\n",
        "        \"CompVis/stable-diffusion-v1-4\",\n",
        "        use_auth_token=HAGGINGFACE_TOKEN,\n",
        "    )\n",
        "    pipe.to(\"cuda\")\n",
        "\n",
        "    return pipe\n",
        "\n",
        "\n",
        "PIPE = _create_pipeline()"
      ]
    },
    {
      "cell_type": "markdown",
      "metadata": {
        "id": "XmLUW-9WO4dF"
      },
      "source": [
        "## Create and show image"
      ]
    },
    {
      "cell_type": "code",
      "execution_count": null,
      "metadata": {
        "id": "3w_uPDgiHaDY"
      },
      "outputs": [],
      "source": [
        "%%time\n",
        "\n",
        "def _create_image(pipe: StableDiffusionPipeline, prompt: str) -> Image:\n",
        "    image = pipe(prompt, num_inference_steps=50)[\"sample\"][0]\n",
        "\n",
        "    return image\n",
        "\n",
        "\n",
        "def _save_and_show_image(image: Image, filepath: Path) -> None:\n",
        "    image.save(filepath)\n",
        "    display(displayImage(filepath))\n",
        "\n",
        "\n",
        "PROMPT = \"A fantasy landscape, trending on artstation\"\n",
        "IMAGE = _create_image(pipe=PIPE, prompt=PROMPT)\n",
        "OUTPUT_FILEPATH = Path(\"test.png\")\n",
        "_save_and_show_image(image=IMAGE, filepath=OUTPUT_FILEPATH)"
      ]
    }
  ],
  "metadata": {
    "accelerator": "GPU",
    "colab": {
      "collapsed_sections": [
        "50r5NPyXOtvg",
        "F-ZQEq0IOw4Q",
        "c0RN1JwdPkPY"
      ],
      "private_outputs": true,
      "provenance": []
    },
    "kernelspec": {
      "display_name": "Python 3",
      "name": "python3"
    },
    "language_info": {
      "name": "python"
    }
  },
  "nbformat": 4,
  "nbformat_minor": 0
}
