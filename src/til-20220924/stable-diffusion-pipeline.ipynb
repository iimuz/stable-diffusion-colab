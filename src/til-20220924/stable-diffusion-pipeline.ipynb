{
  "nbformat": 4,
  "nbformat_minor": 0,
  "metadata": {
    "colab": {
      "private_outputs": true,
      "provenance": [],
      "collapsed_sections": [
        "50r5NPyXOtvg",
        "F-ZQEq0IOw4Q",
        "c0RN1JwdPkPY"
      ]
    },
    "kernelspec": {
      "name": "python3",
      "display_name": "Python 3"
    },
    "language_info": {
      "name": "python"
    },
    "accelerator": "GPU"
  },
  "cells": [
    {
      "cell_type": "markdown",
      "source": [
        "# Stable diffusion text to image"
      ],
      "metadata": {
        "id": "eNFFigp2Grw9"
      }
    },
    {
      "cell_type": "markdown",
      "source": [
        "## Overview\n",
        "\n",
        "Hagging faceのStable Diffusionを利用したテキストから画像を生成するノートブック。\n",
        "公開されている重みをそのまま利用して実行しています。\n",
        "実行するためには、Hagging Faceのアカウントを取得し、APIキーが必要となります。"
      ],
      "metadata": {
        "id": "krECiKIJOpZL"
      }
    },
    {
      "cell_type": "markdown",
      "source": [
        "## Install packages"
      ],
      "metadata": {
        "id": "50r5NPyXOtvg"
      }
    },
    {
      "cell_type": "code",
      "execution_count": null,
      "metadata": {
        "id": "MuoPEVBNGfD4"
      },
      "outputs": [],
      "source": [
        "def _install_packages() -> None:\n",
        "    # Install packagees.\n",
        "    !pip install --quiet --no-cache \\\n",
        "        diffusers==0.3.0 \\\n",
        "        ftfy \\\n",
        "        scipy \\\n",
        "        transformers\n",
        "\n",
        "\n",
        "_install_packages()"
      ]
    },
    {
      "cell_type": "markdown",
      "source": [
        "## Import packages"
      ],
      "metadata": {
        "id": "F-ZQEq0IOw4Q"
      }
    },
    {
      "cell_type": "code",
      "source": [
        "from getpass import getpass\n",
        "from pathlib import Path\n",
        "\n",
        "from IPython.display import display\n",
        "from IPython.display import Image as displayImage\n",
        "from PIL.Image import Image\n",
        "\n",
        "from diffusers import StableDiffusionPipeline"
      ],
      "metadata": {
        "id": "M44EyRLwHCKG"
      },
      "execution_count": null,
      "outputs": []
    },
    {
      "cell_type": "markdown",
      "source": [
        "## Setup"
      ],
      "metadata": {
        "id": "mE4P4CR2O2RK"
      }
    },
    {
      "cell_type": "code",
      "source": [
        "HAGGINGFACE_TOKEN = getpass(\"Enter the Hagging Face API key.\")"
      ],
      "metadata": {
        "id": "ngZ_79AvJMwr"
      },
      "execution_count": null,
      "outputs": []
    },
    {
      "cell_type": "markdown",
      "source": [
        "### Pipeline"
      ],
      "metadata": {
        "id": "c0RN1JwdPkPY"
      }
    },
    {
      "cell_type": "code",
      "source": [
        "def _create_pipeline() -> StableDiffusionPipeline:\n",
        "    pipe = StableDiffusionPipeline.from_pretrained(\n",
        "        \"CompVis/stable-diffusion-v1-4\",\n",
        "        use_auth_token=HAGGINGFACE_TOKEN,\n",
        "    )\n",
        "    pipe.to(\"cuda\")\n",
        "\n",
        "    return pipe\n",
        "\n",
        "\n",
        "PIPE = _create_pipeline()"
      ],
      "metadata": {
        "id": "V4ljmQ6RHP7F"
      },
      "execution_count": null,
      "outputs": []
    },
    {
      "cell_type": "markdown",
      "source": [
        "## Create and show image"
      ],
      "metadata": {
        "id": "XmLUW-9WO4dF"
      }
    },
    {
      "cell_type": "code",
      "source": [
        "%%time\n",
        "\n",
        "def _create_image(pipe: StableDiffusionPipeline, prompt: str) -> Image:\n",
        "    image = pipe(prompt, num_inference_steps=50)[\"sample\"][0]\n",
        "\n",
        "    return image\n",
        "\n",
        "\n",
        "def _save_and_show_image(image: Image, filepath: Path) -> None:\n",
        "    image.save(filepath)\n",
        "    display(displayImage(filepath))\n",
        "\n",
        "\n",
        "PROMPT = \"A fantasy landscape, trending on artstation\"\n",
        "IMAGE = _create_image(pipe=PIPE, prompt=PROMPT)\n",
        "OUTPUT_FILEPATH = Path(\"test.png\")\n",
        "_save_and_show_image(image=IMAGE, filepath=OUTPUT_FILEPATH)"
      ],
      "metadata": {
        "id": "3w_uPDgiHaDY"
      },
      "execution_count": null,
      "outputs": []
    }
  ]
}